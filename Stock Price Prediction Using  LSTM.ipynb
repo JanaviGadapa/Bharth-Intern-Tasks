{
 "cells": [
  {
   "cell_type": "markdown",
   "id": "91fbdd5a",
   "metadata": {},
   "source": [
    "**Importing Libraries**"
   ]
  },
  {
   "cell_type": "code",
   "execution_count": 2,
   "id": "20dd10a0",
   "metadata": {},
   "outputs": [],
   "source": [
    "#importing libraries to be used\n",
    "import numpy as np # for linear algebra\n",
    "import pandas as pd # data preprocessing\n",
    "import matplotlib.pyplot as plt # data visualization library\n",
    "import seaborn as sns # data visualization library\n",
    "%matplotlib inline\n",
    "import warnings\n",
    "warnings.filterwarnings('ignore') # ignore warnings \n",
    "\n",
    "from sklearn.preprocessing import MinMaxScaler # for normalization\n",
    "from keras.models import Sequential\n",
    "from keras.layers import Dense, Dropout, LSTM, Bidirectional"
   ]
  },
  {
   "cell_type": "markdown",
   "id": "92226085",
   "metadata": {},
   "source": [
    "**Reading Csv File**"
   ]
  },
  {
   "cell_type": "code",
   "execution_count": 3,
   "id": "d1964095",
   "metadata": {},
   "outputs": [],
   "source": [
    "data=pd.read_csv(r\"C:\\Users\\Dell\\Downloads\\Task_1_Stocks_dataset.csv\")"
   ]
  },
  {
   "cell_type": "markdown",
   "id": "57a7cc6c",
   "metadata": {},
   "source": [
    "**BASIC CHECKS**"
   ]
  },
  {
   "cell_type": "code",
   "execution_count": 4,
   "id": "cc78d396",
   "metadata": {},
   "outputs": [
    {
     "data": {
      "text/plain": [
       "(1258, 14)"
      ]
     },
     "execution_count": 4,
     "metadata": {},
     "output_type": "execute_result"
    }
   ],
   "source": [
    "data.shape"
   ]
  },
  {
   "cell_type": "code",
   "execution_count": 5,
   "id": "193a63e9",
   "metadata": {},
   "outputs": [
    {
     "data": {
      "text/plain": [
       "symbol         0\n",
       "date           0\n",
       "close          0\n",
       "high           0\n",
       "low            0\n",
       "open           0\n",
       "volume         0\n",
       "adjClose       0\n",
       "adjHigh        0\n",
       "adjLow         0\n",
       "adjOpen        0\n",
       "adjVolume      0\n",
       "divCash        0\n",
       "splitFactor    0\n",
       "dtype: int64"
      ]
     },
     "execution_count": 5,
     "metadata": {},
     "output_type": "execute_result"
    }
   ],
   "source": [
    "data.isnull().sum()"
   ]
  },
  {
   "cell_type": "code",
   "execution_count": 6,
   "id": "b8c0d6be",
   "metadata": {},
   "outputs": [
    {
     "data": {
      "text/html": [
       "<div>\n",
       "<style scoped>\n",
       "    .dataframe tbody tr th:only-of-type {\n",
       "        vertical-align: middle;\n",
       "    }\n",
       "\n",
       "    .dataframe tbody tr th {\n",
       "        vertical-align: top;\n",
       "    }\n",
       "\n",
       "    .dataframe thead th {\n",
       "        text-align: right;\n",
       "    }\n",
       "</style>\n",
       "<table border=\"1\" class=\"dataframe\">\n",
       "  <thead>\n",
       "    <tr style=\"text-align: right;\">\n",
       "      <th></th>\n",
       "      <th>symbol</th>\n",
       "      <th>date</th>\n",
       "      <th>close</th>\n",
       "      <th>high</th>\n",
       "      <th>low</th>\n",
       "      <th>open</th>\n",
       "      <th>volume</th>\n",
       "      <th>adjClose</th>\n",
       "      <th>adjHigh</th>\n",
       "      <th>adjLow</th>\n",
       "      <th>adjOpen</th>\n",
       "      <th>adjVolume</th>\n",
       "      <th>divCash</th>\n",
       "      <th>splitFactor</th>\n",
       "    </tr>\n",
       "  </thead>\n",
       "  <tbody>\n",
       "  </tbody>\n",
       "</table>\n",
       "</div>"
      ],
      "text/plain": [
       "Empty DataFrame\n",
       "Columns: [symbol, date, close, high, low, open, volume, adjClose, adjHigh, adjLow, adjOpen, adjVolume, divCash, splitFactor]\n",
       "Index: []"
      ]
     },
     "execution_count": 6,
     "metadata": {},
     "output_type": "execute_result"
    }
   ],
   "source": [
    "data[data.duplicated()]"
   ]
  },
  {
   "cell_type": "code",
   "execution_count": 7,
   "id": "c3917102",
   "metadata": {},
   "outputs": [
    {
     "data": {
      "text/html": [
       "<div>\n",
       "<style scoped>\n",
       "    .dataframe tbody tr th:only-of-type {\n",
       "        vertical-align: middle;\n",
       "    }\n",
       "\n",
       "    .dataframe tbody tr th {\n",
       "        vertical-align: top;\n",
       "    }\n",
       "\n",
       "    .dataframe thead th {\n",
       "        text-align: right;\n",
       "    }\n",
       "</style>\n",
       "<table border=\"1\" class=\"dataframe\">\n",
       "  <thead>\n",
       "    <tr style=\"text-align: right;\">\n",
       "      <th></th>\n",
       "      <th>close</th>\n",
       "      <th>high</th>\n",
       "      <th>low</th>\n",
       "      <th>open</th>\n",
       "      <th>volume</th>\n",
       "      <th>adjClose</th>\n",
       "      <th>adjHigh</th>\n",
       "      <th>adjLow</th>\n",
       "      <th>adjOpen</th>\n",
       "      <th>adjVolume</th>\n",
       "      <th>divCash</th>\n",
       "      <th>splitFactor</th>\n",
       "    </tr>\n",
       "  </thead>\n",
       "  <tbody>\n",
       "    <tr>\n",
       "      <th>count</th>\n",
       "      <td>1258.000000</td>\n",
       "      <td>1258.000000</td>\n",
       "      <td>1258.000000</td>\n",
       "      <td>1258.000000</td>\n",
       "      <td>1.258000e+03</td>\n",
       "      <td>1258.000000</td>\n",
       "      <td>1258.000000</td>\n",
       "      <td>1258.000000</td>\n",
       "      <td>1258.000000</td>\n",
       "      <td>1.258000e+03</td>\n",
       "      <td>1258.0</td>\n",
       "      <td>1258.0</td>\n",
       "    </tr>\n",
       "    <tr>\n",
       "      <th>mean</th>\n",
       "      <td>1216.317067</td>\n",
       "      <td>1227.430934</td>\n",
       "      <td>1204.176430</td>\n",
       "      <td>1215.260779</td>\n",
       "      <td>1.601590e+06</td>\n",
       "      <td>1216.317067</td>\n",
       "      <td>1227.430936</td>\n",
       "      <td>1204.176436</td>\n",
       "      <td>1215.260779</td>\n",
       "      <td>1.601590e+06</td>\n",
       "      <td>0.0</td>\n",
       "      <td>1.0</td>\n",
       "    </tr>\n",
       "    <tr>\n",
       "      <th>std</th>\n",
       "      <td>383.333358</td>\n",
       "      <td>387.570872</td>\n",
       "      <td>378.777094</td>\n",
       "      <td>382.446995</td>\n",
       "      <td>6.960172e+05</td>\n",
       "      <td>383.333358</td>\n",
       "      <td>387.570873</td>\n",
       "      <td>378.777099</td>\n",
       "      <td>382.446995</td>\n",
       "      <td>6.960172e+05</td>\n",
       "      <td>0.0</td>\n",
       "      <td>0.0</td>\n",
       "    </tr>\n",
       "    <tr>\n",
       "      <th>min</th>\n",
       "      <td>668.260000</td>\n",
       "      <td>672.300000</td>\n",
       "      <td>663.284000</td>\n",
       "      <td>671.000000</td>\n",
       "      <td>3.467530e+05</td>\n",
       "      <td>668.260000</td>\n",
       "      <td>672.300000</td>\n",
       "      <td>663.284000</td>\n",
       "      <td>671.000000</td>\n",
       "      <td>3.467530e+05</td>\n",
       "      <td>0.0</td>\n",
       "      <td>1.0</td>\n",
       "    </tr>\n",
       "    <tr>\n",
       "      <th>25%</th>\n",
       "      <td>960.802500</td>\n",
       "      <td>968.757500</td>\n",
       "      <td>952.182500</td>\n",
       "      <td>959.005000</td>\n",
       "      <td>1.173522e+06</td>\n",
       "      <td>960.802500</td>\n",
       "      <td>968.757500</td>\n",
       "      <td>952.182500</td>\n",
       "      <td>959.005000</td>\n",
       "      <td>1.173522e+06</td>\n",
       "      <td>0.0</td>\n",
       "      <td>1.0</td>\n",
       "    </tr>\n",
       "    <tr>\n",
       "      <th>50%</th>\n",
       "      <td>1132.460000</td>\n",
       "      <td>1143.935000</td>\n",
       "      <td>1117.915000</td>\n",
       "      <td>1131.150000</td>\n",
       "      <td>1.412588e+06</td>\n",
       "      <td>1132.460000</td>\n",
       "      <td>1143.935000</td>\n",
       "      <td>1117.915000</td>\n",
       "      <td>1131.150000</td>\n",
       "      <td>1.412588e+06</td>\n",
       "      <td>0.0</td>\n",
       "      <td>1.0</td>\n",
       "    </tr>\n",
       "    <tr>\n",
       "      <th>75%</th>\n",
       "      <td>1360.595000</td>\n",
       "      <td>1374.345000</td>\n",
       "      <td>1348.557500</td>\n",
       "      <td>1361.075000</td>\n",
       "      <td>1.812156e+06</td>\n",
       "      <td>1360.595000</td>\n",
       "      <td>1374.345000</td>\n",
       "      <td>1348.557500</td>\n",
       "      <td>1361.075000</td>\n",
       "      <td>1.812156e+06</td>\n",
       "      <td>0.0</td>\n",
       "      <td>1.0</td>\n",
       "    </tr>\n",
       "    <tr>\n",
       "      <th>max</th>\n",
       "      <td>2521.600000</td>\n",
       "      <td>2526.990000</td>\n",
       "      <td>2498.290000</td>\n",
       "      <td>2524.920000</td>\n",
       "      <td>6.207027e+06</td>\n",
       "      <td>2521.600000</td>\n",
       "      <td>2526.990000</td>\n",
       "      <td>2498.290000</td>\n",
       "      <td>2524.920000</td>\n",
       "      <td>6.207027e+06</td>\n",
       "      <td>0.0</td>\n",
       "      <td>1.0</td>\n",
       "    </tr>\n",
       "  </tbody>\n",
       "</table>\n",
       "</div>"
      ],
      "text/plain": [
       "             close         high          low         open        volume  \\\n",
       "count  1258.000000  1258.000000  1258.000000  1258.000000  1.258000e+03   \n",
       "mean   1216.317067  1227.430934  1204.176430  1215.260779  1.601590e+06   \n",
       "std     383.333358   387.570872   378.777094   382.446995  6.960172e+05   \n",
       "min     668.260000   672.300000   663.284000   671.000000  3.467530e+05   \n",
       "25%     960.802500   968.757500   952.182500   959.005000  1.173522e+06   \n",
       "50%    1132.460000  1143.935000  1117.915000  1131.150000  1.412588e+06   \n",
       "75%    1360.595000  1374.345000  1348.557500  1361.075000  1.812156e+06   \n",
       "max    2521.600000  2526.990000  2498.290000  2524.920000  6.207027e+06   \n",
       "\n",
       "          adjClose      adjHigh       adjLow      adjOpen     adjVolume  \\\n",
       "count  1258.000000  1258.000000  1258.000000  1258.000000  1.258000e+03   \n",
       "mean   1216.317067  1227.430936  1204.176436  1215.260779  1.601590e+06   \n",
       "std     383.333358   387.570873   378.777099   382.446995  6.960172e+05   \n",
       "min     668.260000   672.300000   663.284000   671.000000  3.467530e+05   \n",
       "25%     960.802500   968.757500   952.182500   959.005000  1.173522e+06   \n",
       "50%    1132.460000  1143.935000  1117.915000  1131.150000  1.412588e+06   \n",
       "75%    1360.595000  1374.345000  1348.557500  1361.075000  1.812156e+06   \n",
       "max    2521.600000  2526.990000  2498.290000  2524.920000  6.207027e+06   \n",
       "\n",
       "       divCash  splitFactor  \n",
       "count   1258.0       1258.0  \n",
       "mean       0.0          1.0  \n",
       "std        0.0          0.0  \n",
       "min        0.0          1.0  \n",
       "25%        0.0          1.0  \n",
       "50%        0.0          1.0  \n",
       "75%        0.0          1.0  \n",
       "max        0.0          1.0  "
      ]
     },
     "execution_count": 7,
     "metadata": {},
     "output_type": "execute_result"
    }
   ],
   "source": [
    "data.describe()"
   ]
  },
  {
   "cell_type": "code",
   "execution_count": 8,
   "id": "45884dd7",
   "metadata": {},
   "outputs": [
    {
     "name": "stdout",
     "output_type": "stream",
     "text": [
      "<class 'pandas.core.frame.DataFrame'>\n",
      "RangeIndex: 1258 entries, 0 to 1257\n",
      "Data columns (total 14 columns):\n",
      " #   Column       Non-Null Count  Dtype  \n",
      "---  ------       --------------  -----  \n",
      " 0   symbol       1258 non-null   object \n",
      " 1   date         1258 non-null   object \n",
      " 2   close        1258 non-null   float64\n",
      " 3   high         1258 non-null   float64\n",
      " 4   low          1258 non-null   float64\n",
      " 5   open         1258 non-null   float64\n",
      " 6   volume       1258 non-null   int64  \n",
      " 7   adjClose     1258 non-null   float64\n",
      " 8   adjHigh      1258 non-null   float64\n",
      " 9   adjLow       1258 non-null   float64\n",
      " 10  adjOpen      1258 non-null   float64\n",
      " 11  adjVolume    1258 non-null   int64  \n",
      " 12  divCash      1258 non-null   float64\n",
      " 13  splitFactor  1258 non-null   float64\n",
      "dtypes: float64(10), int64(2), object(2)\n",
      "memory usage: 137.7+ KB\n"
     ]
    }
   ],
   "source": [
    "data.info()"
   ]
  },
  {
   "cell_type": "markdown",
   "id": "b2731dd7",
   "metadata": {},
   "source": [
    "**Selecting new dataframe from existing dataframe that includes important features**"
   ]
  },
  {
   "cell_type": "code",
   "execution_count": 10,
   "id": "779814ab",
   "metadata": {},
   "outputs": [],
   "source": [
    "df=data.iloc[:,[1,2,5]]\n",
    "df['date']=pd.to_datetime(df['date'])"
   ]
  },
  {
   "cell_type": "code",
   "execution_count": 11,
   "id": "0302b809",
   "metadata": {},
   "outputs": [],
   "source": [
    "df['date']=df['date'].dt.date\n",
    "df.set_index('date',drop=True,inplace=True)"
   ]
  },
  {
   "cell_type": "code",
   "execution_count": 12,
   "id": "b6c4acaf",
   "metadata": {},
   "outputs": [
    {
     "data": {
      "text/html": [
       "<div>\n",
       "<style scoped>\n",
       "    .dataframe tbody tr th:only-of-type {\n",
       "        vertical-align: middle;\n",
       "    }\n",
       "\n",
       "    .dataframe tbody tr th {\n",
       "        vertical-align: top;\n",
       "    }\n",
       "\n",
       "    .dataframe thead th {\n",
       "        text-align: right;\n",
       "    }\n",
       "</style>\n",
       "<table border=\"1\" class=\"dataframe\">\n",
       "  <thead>\n",
       "    <tr style=\"text-align: right;\">\n",
       "      <th></th>\n",
       "      <th>close</th>\n",
       "      <th>open</th>\n",
       "    </tr>\n",
       "    <tr>\n",
       "      <th>date</th>\n",
       "      <th></th>\n",
       "      <th></th>\n",
       "    </tr>\n",
       "  </thead>\n",
       "  <tbody>\n",
       "    <tr>\n",
       "      <th>2016-06-14</th>\n",
       "      <td>718.27</td>\n",
       "      <td>716.48</td>\n",
       "    </tr>\n",
       "    <tr>\n",
       "      <th>2016-06-15</th>\n",
       "      <td>718.92</td>\n",
       "      <td>719.00</td>\n",
       "    </tr>\n",
       "    <tr>\n",
       "      <th>2016-06-16</th>\n",
       "      <td>710.36</td>\n",
       "      <td>714.91</td>\n",
       "    </tr>\n",
       "    <tr>\n",
       "      <th>2016-06-17</th>\n",
       "      <td>691.72</td>\n",
       "      <td>708.65</td>\n",
       "    </tr>\n",
       "    <tr>\n",
       "      <th>2016-06-20</th>\n",
       "      <td>693.71</td>\n",
       "      <td>698.77</td>\n",
       "    </tr>\n",
       "  </tbody>\n",
       "</table>\n",
       "</div>"
      ],
      "text/plain": [
       "             close    open\n",
       "date                      \n",
       "2016-06-14  718.27  716.48\n",
       "2016-06-15  718.92  719.00\n",
       "2016-06-16  710.36  714.91\n",
       "2016-06-17  691.72  708.65\n",
       "2016-06-20  693.71  698.77"
      ]
     },
     "execution_count": 12,
     "metadata": {},
     "output_type": "execute_result"
    }
   ],
   "source": [
    "df.head()"
   ]
  },
  {
   "cell_type": "code",
   "execution_count": 13,
   "id": "31353336",
   "metadata": {},
   "outputs": [
    {
     "data": {
      "text/plain": [
       "[<matplotlib.lines.Line2D at 0x282a3aa5e80>,\n",
       " <matplotlib.lines.Line2D at 0x282a3b3f880>]"
      ]
     },
     "execution_count": 13,
     "metadata": {},
     "output_type": "execute_result"
    },
    {
     "data": {
      "image/png": "[encoded data removed]",
      "text/plain": [
       "<Figure size 640x480 with 1 Axes>"
      ]
     },
     "metadata": {},
     "output_type": "display_data"
    }
   ],
   "source": [
    "plt.plot(df)"
   ]
  },
  {
   "cell_type": "code",
   "execution_count": 14,
   "id": "d08bf6b7",
   "metadata": {},
   "outputs": [
    {
     "data": {
      "image/png": "[encoded data removed]",
      "text/plain": [
       "<Figure size 500x500 with 1 Axes>"
      ]
     },
     "metadata": {},
     "output_type": "display_data"
    }
   ],
   "source": [
    "plt.figure(figsize=(5,5))\n",
    "plt.plot(df['close'],color='red')\n",
    "plt.xlabel('Date')\n",
    "plt.ylabel('close')\n",
    "plt.show()"
   ]
  },
  {
   "cell_type": "code",
   "execution_count": 15,
   "id": "16446c13",
   "metadata": {},
   "outputs": [
    {
     "data": {
      "image/png": "[encoded data removed]",
      "text/plain": [
       "<Figure size 500x500 with 1 Axes>"
      ]
     },
     "metadata": {},
     "output_type": "display_data"
    }
   ],
   "source": [
    "plt.figure(figsize=(5,5))\n",
    "plt.plot(df['open'],color='blue')\n",
    "plt.xlabel('Date')\n",
    "plt.ylabel('open')\n",
    "plt.show()"
   ]
  },
  {
   "cell_type": "markdown",
   "id": "bb28563d",
   "metadata": {},
   "source": [
    "**Scaling the features with MinMaxScaler as LSTM are sensitive**"
   ]
  },
  {
   "cell_type": "code",
   "execution_count": 17,
   "id": "a14f48b3",
   "metadata": {},
   "outputs": [],
   "source": [
    "scaler = MinMaxScaler(feature_range=(0,1))\n",
    "df=scaler.fit_transform(np.array(df).reshape(-1,1))"
   ]
  },
  {
   "cell_type": "markdown",
   "id": "cda183ce",
   "metadata": {},
   "source": [
    "**splitting the data into train and test**"
   ]
  },
  {
   "cell_type": "code",
   "execution_count": 18,
   "id": "cf55fdc9",
   "metadata": {},
   "outputs": [],
   "source": [
    "training_size=int(len(df)*0.65)\n",
    "test_size=len(df)-training_size\n",
    "train_data,test_data=df[0:training_size,:],df[training_size:len(df),:1]"
   ]
  },
  {
   "cell_type": "code",
   "execution_count": 19,
   "id": "9b6e63fc",
   "metadata": {},
   "outputs": [],
   "source": [
    "import numpy\n",
    "# convert an array of values into a dataset matrix\n",
    "def create_dataset(dataset, time_step=1):\n",
    "    dataX, dataY = [], []\n",
    "    for i in range(len(dataset)-time_step-1):\n",
    "        a = dataset[i:(i+time_step), 0]   ###i=0, 0,1,2,3-----99   100 \n",
    "        dataX.append(a)\n",
    "        dataY.append(dataset[i + time_step, 0]\n",
    "    return numpy.array(dataX), numpy.array(dataY)"
   ]
  },
  {
   "cell_type": "code",
   "execution_count": 21,
   "id": "c504e95c",
   "metadata": {},
   "outputs": [],
   "source": [
    "# reshape into X=t,t+1,t+2,t+3 and Y=t+4\n",
    "time_step = 100\n",
    "X_train, y_train = create_dataset(train_data, time_step)\n",
    "X_test, ytest = create_dataset(test_data, time_step)"
   ]
  },
  {
   "cell_type": "code",
   "execution_count": 25,
   "id": "145d1a27",
   "metadata": {},
   "outputs": [
    {
     "data": {
      "text/plain": [
       "((1534, 100), (1534,), (780, 100), (780,))"
      ]
     },
     "execution_count": 25,
     "metadata": {},
     "output_type": "execute_result"
    }
   ],
   "source": [
    "X_train.shape,y_train.shape,X_test.shape,ytest.shape"
   ]
  },
  {
   "cell_type": "code",
   "execution_count": 26,
   "id": "22151d7f",
   "metadata": {},
   "outputs": [],
   "source": [
    "# reshape input to be [samples, time steps, features] which is required for LSTM\n",
    "X_train =X_train.reshape(X_train.shape[0],X_train.shape[1] , 1)\n",
    "X_test = X_test.reshape(X_test.shape[0],X_test.shape[1] , 1)"
   ]
  },
  {
   "cell_type": "markdown",
   "id": "1df09ca8",
   "metadata": {},
   "source": [
    "**Creating a Stacked LSTM model**"
   ]
  },
  {
   "cell_type": "code",
   "execution_count": 27,
   "id": "5519d1e8",
   "metadata": {},
   "outputs": [],
   "source": [
    "model=Sequential()\n",
    "model.add(LSTM(50,return_sequences=True,input_shape=(100,1)))\n",
    "model.add(LSTM(50,return_sequences=True))\n",
    "model.add(LSTM(50))\n",
    "model.add(Dense(1))\n",
    "model.compile(loss='mean_squared_error',optimizer='adam')"
   ]
  },
  {
   "cell_type": "code",
   "execution_count": 28,
   "id": "e6807c8d",
   "metadata": {},
   "outputs": [
    {
     "name": "stdout",
     "output_type": "stream",
     "text": [
      "Model: \"sequential\"\n",
      "_________________________________________________________________\n",
      " Layer (type)                Output Shape              Param #   \n",
      "=================================================================\n",
      " lstm (LSTM)                 (None, 100, 50)           10400     \n",
      "                                                                 \n",
      " lstm_1 (LSTM)               (None, 100, 50)           20200     \n",
      "                                                                 \n",
      " lstm_2 (LSTM)               (None, 50)                20200     \n",
      "                                                                 \n",
      " dense (Dense)               (None, 1)                 51        \n",
      "                                                                 \n",
      "=================================================================\n",
      "Total params: 50851 (198.64 KB)\n",
      "Trainable params: 50851 (198.64 KB)\n",
      "Non-trainable params: 0 (0.00 Byte)\n",
      "_________________________________________________________________\n"
     ]
    }
   ],
   "source": [
    "model.summary()"
   ]
  },
  {
   "cell_type": "markdown",
   "id": "69a88c24",
   "metadata": {},
   "source": [
    "**Model Fitting**"
   ]
  },
  {
   "cell_type": "code",
   "execution_count": 29,
   "id": "a15caecb",
   "metadata": {},
   "outputs": [
    {
     "name": "stdout",
     "output_type": "stream",
     "text": [
      "Epoch 1/100\n",
      "24/24 [==============================] - 11s 211ms/step - loss: 0.0066 - val_loss: 0.0152\n",
      "Epoch 2/100\n",
      "24/24 [==============================] - 4s 156ms/step - loss: 7.9231e-04 - val_loss: 0.0036\n",
      "Epoch 3/100\n",
      "24/24 [==============================] - 4s 148ms/step - loss: 2.9046e-04 - val_loss: 0.0036\n",
      "Epoch 4/100\n",
      "24/24 [==============================] - 4s 148ms/step - loss: 2.5686e-04 - val_loss: 0.0024\n",
      "Epoch 5/100\n",
      "24/24 [==============================] - 4s 149ms/step - loss: 2.5135e-04 - val_loss: 0.0030\n",
      "Epoch 6/100\n",
      "24/24 [==============================] - 4s 147ms/step - loss: 2.4046e-04 - val_loss: 0.0023\n",
      "Epoch 7/100\n",
      "24/24 [==============================] - 3s 146ms/step - loss: 2.3781e-04 - val_loss: 0.0040\n",
      "Epoch 8/100\n",
      "24/24 [==============================] - 3s 145ms/step - loss: 2.3758e-04 - val_loss: 0.0030\n",
      "Epoch 9/100\n",
      "24/24 [==============================] - 4s 147ms/step - loss: 2.4013e-04 - val_loss: 0.0041\n",
      "Epoch 10/100\n",
      "24/24 [==============================] - 4s 149ms/step - loss: 2.2381e-04 - val_loss: 0.0038\n",
      "Epoch 11/100\n",
      "24/24 [==============================] - 3s 145ms/step - loss: 2.1889e-04 - val_loss: 0.0049\n",
      "Epoch 12/100\n",
      "24/24 [==============================] - 4s 149ms/step - loss: 2.1388e-04 - val_loss: 0.0047\n",
      "Epoch 13/100\n",
      "24/24 [==============================] - 4s 148ms/step - loss: 2.2831e-04 - val_loss: 0.0037\n",
      "Epoch 14/100\n",
      "24/24 [==============================] - 3s 146ms/step - loss: 2.0666e-04 - val_loss: 0.0063\n",
      "Epoch 15/100\n",
      "24/24 [==============================] - 4s 152ms/step - loss: 2.1585e-04 - val_loss: 0.0058\n",
      "Epoch 16/100\n",
      "24/24 [==============================] - 3s 145ms/step - loss: 1.9541e-04 - val_loss: 0.0066\n",
      "Epoch 17/100\n",
      "24/24 [==============================] - 4s 148ms/step - loss: 2.0231e-04 - val_loss: 0.0053\n",
      "Epoch 18/100\n",
      "24/24 [==============================] - 4s 147ms/step - loss: 1.8336e-04 - val_loss: 0.0077\n",
      "Epoch 19/100\n",
      "24/24 [==============================] - 4s 153ms/step - loss: 1.8252e-04 - val_loss: 0.0081\n",
      "Epoch 20/100\n",
      "24/24 [==============================] - 4s 149ms/step - loss: 1.7971e-04 - val_loss: 0.0071\n",
      "Epoch 21/100\n",
      "24/24 [==============================] - 4s 158ms/step - loss: 1.7078e-04 - val_loss: 0.0071\n",
      "Epoch 22/100\n",
      "24/24 [==============================] - 4s 150ms/step - loss: 1.7047e-04 - val_loss: 0.0095\n",
      "Epoch 23/100\n",
      "24/24 [==============================] - 4s 148ms/step - loss: 1.5957e-04 - val_loss: 0.0095\n",
      "Epoch 24/100\n",
      "24/24 [==============================] - 4s 155ms/step - loss: 1.5137e-04 - val_loss: 0.0067\n",
      "Epoch 25/100\n",
      "24/24 [==============================] - 4s 159ms/step - loss: 1.4289e-04 - val_loss: 0.0067\n",
      "Epoch 26/100\n",
      "24/24 [==============================] - 4s 157ms/step - loss: 1.3629e-04 - val_loss: 0.0068\n",
      "Epoch 27/100\n",
      "24/24 [==============================] - 4s 152ms/step - loss: 1.3200e-04 - val_loss: 0.0070\n",
      "Epoch 28/100\n",
      "24/24 [==============================] - 4s 153ms/step - loss: 1.3952e-04 - val_loss: 0.0057\n",
      "Epoch 29/100\n",
      "24/24 [==============================] - 3s 146ms/step - loss: 1.3003e-04 - val_loss: 0.0037\n",
      "Epoch 30/100\n",
      "24/24 [==============================] - 3s 144ms/step - loss: 1.3135e-04 - val_loss: 0.0065\n",
      "Epoch 31/100\n",
      "24/24 [==============================] - 3s 144ms/step - loss: 1.2061e-04 - val_loss: 0.0040\n",
      "Epoch 32/100\n",
      "24/24 [==============================] - 3s 144ms/step - loss: 1.1050e-04 - val_loss: 0.0041\n",
      "Epoch 33/100\n",
      "24/24 [==============================] - 3s 145ms/step - loss: 1.1846e-04 - val_loss: 0.0039\n",
      "Epoch 34/100\n",
      "24/24 [==============================] - 3s 145ms/step - loss: 1.0814e-04 - val_loss: 0.0046\n",
      "Epoch 35/100\n",
      "24/24 [==============================] - 3s 144ms/step - loss: 1.0221e-04 - val_loss: 0.0036\n",
      "Epoch 36/100\n",
      "24/24 [==============================] - 4s 148ms/step - loss: 1.0305e-04 - val_loss: 0.0038\n",
      "Epoch 37/100\n",
      "24/24 [==============================] - 4s 148ms/step - loss: 9.8405e-05 - val_loss: 0.0034\n",
      "Epoch 38/100\n",
      "24/24 [==============================] - 4s 152ms/step - loss: 9.9302e-05 - val_loss: 0.0019\n",
      "Epoch 39/100\n",
      "24/24 [==============================] - 4s 148ms/step - loss: 1.1766e-04 - val_loss: 0.0030\n",
      "Epoch 40/100\n",
      "24/24 [==============================] - 3s 145ms/step - loss: 8.8301e-05 - val_loss: 0.0024\n",
      "Epoch 41/100\n",
      "24/24 [==============================] - 3s 146ms/step - loss: 9.3627e-05 - val_loss: 0.0023\n",
      "Epoch 42/100\n",
      "24/24 [==============================] - 3s 145ms/step - loss: 8.8605e-05 - val_loss: 0.0020\n",
      "Epoch 43/100\n",
      "24/24 [==============================] - 4s 150ms/step - loss: 8.4523e-05 - val_loss: 0.0029\n",
      "Epoch 44/100\n",
      "24/24 [==============================] - 3s 145ms/step - loss: 8.3882e-05 - val_loss: 0.0028\n",
      "Epoch 45/100\n",
      "24/24 [==============================] - 3s 142ms/step - loss: 9.6245e-05 - val_loss: 0.0049\n",
      "Epoch 46/100\n",
      "24/24 [==============================] - 4s 151ms/step - loss: 9.5955e-05 - val_loss: 0.0019\n",
      "Epoch 47/100\n",
      "24/24 [==============================] - 3s 146ms/step - loss: 8.0577e-05 - val_loss: 0.0033\n",
      "Epoch 48/100\n",
      "24/24 [==============================] - 3s 145ms/step - loss: 7.5799e-05 - val_loss: 0.0014\n",
      "Epoch 49/100\n",
      "24/24 [==============================] - 3s 144ms/step - loss: 7.4861e-05 - val_loss: 0.0018\n",
      "Epoch 50/100\n",
      "24/24 [==============================] - 3s 144ms/step - loss: 7.4453e-05 - val_loss: 0.0019\n",
      "Epoch 51/100\n",
      "24/24 [==============================] - 4s 150ms/step - loss: 7.1862e-05 - val_loss: 0.0029\n",
      "Epoch 52/100\n",
      "24/24 [==============================] - 4s 155ms/step - loss: 7.2835e-05 - val_loss: 7.7587e-04\n",
      "Epoch 53/100\n",
      "24/24 [==============================] - 4s 156ms/step - loss: 8.5023e-05 - val_loss: 0.0011\n",
      "Epoch 54/100\n",
      "24/24 [==============================] - 3s 147ms/step - loss: 6.9382e-05 - val_loss: 0.0012\n",
      "Epoch 55/100\n",
      "24/24 [==============================] - 3s 144ms/step - loss: 6.5877e-05 - val_loss: 7.7150e-04\n",
      "Epoch 56/100\n",
      "24/24 [==============================] - 4s 149ms/step - loss: 7.2642e-05 - val_loss: 0.0010\n",
      "Epoch 57/100\n",
      "24/24 [==============================] - 4s 151ms/step - loss: 6.6507e-05 - val_loss: 0.0018\n",
      "Epoch 58/100\n",
      "24/24 [==============================] - 4s 147ms/step - loss: 8.1205e-05 - val_loss: 0.0026\n",
      "Epoch 59/100\n",
      "24/24 [==============================] - 3s 142ms/step - loss: 6.9932e-05 - val_loss: 0.0014\n",
      "Epoch 60/100\n",
      "24/24 [==============================] - 3s 142ms/step - loss: 6.5578e-05 - val_loss: 0.0018\n",
      "Epoch 61/100\n",
      "24/24 [==============================] - 3s 143ms/step - loss: 6.6365e-05 - val_loss: 0.0012\n",
      "Epoch 62/100\n",
      "24/24 [==============================] - 4s 155ms/step - loss: 6.3503e-05 - val_loss: 8.6211e-04\n",
      "Epoch 63/100\n",
      "24/24 [==============================] - 3s 144ms/step - loss: 6.1768e-05 - val_loss: 7.6517e-04\n",
      "Epoch 64/100\n",
      "24/24 [==============================] - 3s 145ms/step - loss: 6.5000e-05 - val_loss: 0.0015\n",
      "Epoch 65/100\n",
      "24/24 [==============================] - 3s 144ms/step - loss: 6.1133e-05 - val_loss: 0.0014\n",
      "Epoch 66/100\n",
      "24/24 [==============================] - 3s 144ms/step - loss: 6.4101e-05 - val_loss: 7.3544e-04\n",
      "Epoch 67/100\n",
      "24/24 [==============================] - 3s 143ms/step - loss: 6.2315e-05 - val_loss: 9.7957e-04\n",
      "Epoch 68/100\n",
      "24/24 [==============================] - 3s 144ms/step - loss: 6.2970e-05 - val_loss: 0.0012\n",
      "Epoch 69/100\n",
      "24/24 [==============================] - 3s 144ms/step - loss: 6.3526e-05 - val_loss: 0.0013\n",
      "Epoch 70/100\n",
      "24/24 [==============================] - 3s 146ms/step - loss: 6.3547e-05 - val_loss: 9.3369e-04\n",
      "Epoch 71/100\n",
      "24/24 [==============================] - 4s 148ms/step - loss: 6.3439e-05 - val_loss: 0.0011\n",
      "Epoch 72/100\n",
      "24/24 [==============================] - 3s 144ms/step - loss: 7.0622e-05 - val_loss: 0.0016\n",
      "Epoch 73/100\n",
      "24/24 [==============================] - 3s 145ms/step - loss: 6.4444e-05 - val_loss: 8.3431e-04\n",
      "Epoch 74/100\n",
      "24/24 [==============================] - 3s 142ms/step - loss: 5.8811e-05 - val_loss: 9.0430e-04\n",
      "Epoch 75/100\n",
      "24/24 [==============================] - 3s 146ms/step - loss: 6.1706e-05 - val_loss: 0.0014\n",
      "Epoch 76/100\n",
      "24/24 [==============================] - 4s 148ms/step - loss: 5.7403e-05 - val_loss: 7.6207e-04\n",
      "Epoch 77/100\n",
      "24/24 [==============================] - 3s 145ms/step - loss: 5.6865e-05 - val_loss: 7.7869e-04\n"
     ]
    },
    {
     "name": "stdout",
     "output_type": "stream",
     "text": [
      "Epoch 78/100\n",
      "24/24 [==============================] - 3s 144ms/step - loss: 6.2081e-05 - val_loss: 0.0011\n",
      "Epoch 79/100\n",
      "24/24 [==============================] - 3s 143ms/step - loss: 6.0127e-05 - val_loss: 0.0010\n",
      "Epoch 80/100\n",
      "24/24 [==============================] - 3s 143ms/step - loss: 6.1691e-05 - val_loss: 0.0012\n",
      "Epoch 81/100\n",
      "24/24 [==============================] - 3s 145ms/step - loss: 6.0650e-05 - val_loss: 7.5125e-04\n",
      "Epoch 82/100\n",
      "24/24 [==============================] - 3s 143ms/step - loss: 5.9794e-05 - val_loss: 0.0014\n",
      "Epoch 83/100\n",
      "24/24 [==============================] - 3s 141ms/step - loss: 6.4725e-05 - val_loss: 0.0015\n",
      "Epoch 84/100\n",
      "24/24 [==============================] - 3s 143ms/step - loss: 5.7794e-05 - val_loss: 5.9678e-04\n",
      "Epoch 85/100\n",
      "24/24 [==============================] - 3s 143ms/step - loss: 5.6606e-05 - val_loss: 7.1487e-04\n",
      "Epoch 86/100\n",
      "24/24 [==============================] - 3s 145ms/step - loss: 6.3622e-05 - val_loss: 4.4223e-04\n",
      "Epoch 87/100\n",
      "24/24 [==============================] - 3s 142ms/step - loss: 7.4315e-05 - val_loss: 6.0403e-04\n",
      "Epoch 88/100\n",
      "24/24 [==============================] - 3s 144ms/step - loss: 5.6291e-05 - val_loss: 0.0011\n",
      "Epoch 89/100\n",
      "24/24 [==============================] - 3s 145ms/step - loss: 6.1417e-05 - val_loss: 8.7406e-04\n",
      "Epoch 90/100\n",
      "24/24 [==============================] - 3s 144ms/step - loss: 5.6667e-05 - val_loss: 0.0011\n",
      "Epoch 91/100\n",
      "24/24 [==============================] - 3s 142ms/step - loss: 5.7718e-05 - val_loss: 0.0017\n",
      "Epoch 92/100\n",
      "24/24 [==============================] - 3s 143ms/step - loss: 7.9092e-05 - val_loss: 0.0015\n",
      "Epoch 93/100\n",
      "24/24 [==============================] - 3s 145ms/step - loss: 5.7704e-05 - val_loss: 8.4009e-04\n",
      "Epoch 94/100\n",
      "24/24 [==============================] - 3s 145ms/step - loss: 5.7716e-05 - val_loss: 9.7213e-04\n",
      "Epoch 95/100\n",
      "24/24 [==============================] - 4s 147ms/step - loss: 5.8167e-05 - val_loss: 7.9060e-04\n",
      "Epoch 96/100\n",
      "24/24 [==============================] - 3s 145ms/step - loss: 5.5836e-05 - val_loss: 6.5281e-04\n",
      "Epoch 97/100\n",
      "24/24 [==============================] - 3s 146ms/step - loss: 6.6529e-05 - val_loss: 7.5981e-04\n",
      "Epoch 98/100\n",
      "24/24 [==============================] - 3s 145ms/step - loss: 5.7224e-05 - val_loss: 6.4582e-04\n",
      "Epoch 99/100\n",
      "24/24 [==============================] - 4s 148ms/step - loss: 5.4472e-05 - val_loss: 9.9379e-04\n",
      "Epoch 100/100\n",
      "24/24 [==============================] - 3s 147ms/step - loss: 5.7936e-05 - val_loss: 0.0011\n"
     ]
    },
    {
     "data": {
      "text/plain": [
       "<keras.src.callbacks.History at 0x282a72fb100>"
      ]
     },
     "execution_count": 29,
     "metadata": {},
     "output_type": "execute_result"
    }
   ],
   "source": [
    "model.fit(X_train,y_train,validation_data=(X_test,ytest),epochs=100,batch_size=64,verbose=1)"
   ]
  },
  {
   "cell_type": "markdown",
   "id": "45cabeb3",
   "metadata": {},
   "source": [
    "**predicting the values**"
   ]
  },
  {
   "cell_type": "code",
   "execution_count": 30,
   "id": "435e1f3e",
   "metadata": {},
   "outputs": [
    {
     "name": "stdout",
     "output_type": "stream",
     "text": [
      "48/48 [==============================] - 2s 30ms/step\n",
      "25/25 [==============================] - 1s 30ms/step\n"
     ]
    }
   ],
   "source": [
    "train_predict=model.predict(X_train)\n",
    "test_predict=model.predict(X_test)"
   ]
  },
  {
   "cell_type": "code",
   "execution_count": 31,
   "id": "d3736e99",
   "metadata": {},
   "outputs": [],
   "source": [
    "##Transformback to original form\n",
    "train_predict=scaler.inverse_transform(train_predict)\n",
    "test_predict=scaler.inverse_transform(test_predict)"
   ]
  },
  {
   "cell_type": "markdown",
   "id": "ccc5a63d",
   "metadata": {},
   "source": [
    "**Model Evaluation**"
   ]
  },
  {
   "cell_type": "code",
   "execution_count": 32,
   "id": "815d3112",
   "metadata": {},
   "outputs": [
    {
     "data": {
      "text/plain": [
       "1026.8230155612428"
      ]
     },
     "execution_count": 32,
     "metadata": {},
     "output_type": "execute_result"
    }
   ],
   "source": [
    "### Calculate RMSE performance metrics\n",
    "import math\n",
    "from sklearn.metrics import mean_squared_error\n",
    "math.sqrt(mean_squared_error(y_train,train_predict))"
   ]
  },
  {
   "cell_type": "code",
   "execution_count": 33,
   "id": "51c25857",
   "metadata": {},
   "outputs": [
    {
     "data": {
      "text/plain": [
       "1648.3107452890893"
      ]
     },
     "execution_count": 33,
     "metadata": {},
     "output_type": "execute_result"
    }
   ],
   "source": [
    "### Test Data RMSE\n",
    "math.sqrt(mean_squared_error(ytest,test_predict))"
   ]
  },
  {
   "cell_type": "markdown",
   "id": "07f4a764",
   "metadata": {},
   "source": [
    "**plotting the data**"
   ]
  },
  {
   "cell_type": "code",
   "execution_count": 36,
   "id": "39764d43",
   "metadata": {},
   "outputs": [
    {
     "data": {
      "image/png": "[encoded data removed]",
      "text/plain": [
       "<Figure size 640x480 with 1 Axes>"
      ]
     },
     "metadata": {},
     "output_type": "display_data"
    }
   ],
   "source": [
    "### Plotting \n",
    "# shift train predictions for plotting\n",
    "look_back=100\n",
    "trainPredictPlot = numpy.empty_like(df)\n",
    "trainPredictPlot[:, :] = np.nan\n",
    "trainPredictPlot[look_back:len(train_predict)+look_back, :] = train_predict\n",
    "# shift test predictions for plotting\n",
    "testPredictPlot = numpy.empty_like(df)\n",
    "testPredictPlot[:, :] = numpy.nan\n",
    "testPredictPlot[len(train_predict)+(look_back*2)+1:len(df)-1, :] = test_predict\n",
    "# plot baseline and predictions\n",
    "plt.plot(scaler.inverse_transform(df))\n",
    "plt.plot(trainPredictPlot)\n",
    "plt.plot(testPredictPlot)\n",
    "plt.show()"
   ]
  },
  {
   "cell_type": "markdown",
   "id": "43e9dd3a",
   "metadata": {},
   "source": [
    "**Prediction of next 10 days**"
   ]
  },
  {
   "cell_type": "code",
   "execution_count": 38,
   "id": "010c722f",
   "metadata": {},
   "outputs": [
    {
     "data": {
      "text/plain": [
       "(1, 100)"
      ]
     },
     "execution_count": 38,
     "metadata": {},
     "output_type": "execute_result"
    }
   ],
   "source": [
    "x_input=test_data[781:].reshape(1,-1)\n",
    "x_input.shape"
   ]
  },
  {
   "cell_type": "code",
   "execution_count": 39,
   "id": "3560b32e",
   "metadata": {},
   "outputs": [],
   "source": [
    "temp_input=list(x_input)\n",
    "temp_input=temp_input[0].tolist()"
   ]
  },
  {
   "cell_type": "code",
   "execution_count": 40,
   "id": "5bfa4be6",
   "metadata": {},
   "outputs": [
    {
     "name": "stdout",
     "output_type": "stream",
     "text": [
      "[0.9143407]\n",
      "101\n",
      "1 day input [0.77003329 0.83875885 0.79965099 0.83832797 0.83711611 0.8517553\n",
      " 0.83907124 0.86024366 0.86698696 0.87125268 0.85553629 0.85450756\n",
      " 0.86067993 0.8612293  0.85810542 0.85453449 0.86547887 0.8770588\n",
      " 0.86645913 0.87765127 0.88047354 0.88015038 0.87453815 0.87542684\n",
      " 0.8831073  0.87524372 0.87091336 0.8615794  0.8752114  0.88709834\n",
      " 0.86995465 0.89325994 0.88959206 0.88269258 0.89824739 0.92189739\n",
      " 0.9365662  0.94881669 0.93828165 0.93816854 0.93513621 0.93011645\n",
      " 0.93418289 0.90807687 0.91641981 0.90941799 0.91570885 0.92267297\n",
      " 0.90613252 0.93201232 0.93271789 0.90129588 0.91919361 0.88357588\n",
      " 0.87447352 0.84604613 0.85823468 0.85837472 0.85790075 0.88756154\n",
      " 0.87445736 0.89038919 0.8838775  0.88070514 0.89873515 0.88354895\n",
      " 0.85968352 0.9090679  0.89396012 0.90314866 0.91440005 0.93631036\n",
      " 0.91494404 0.93760301 0.94348992 0.9507772  0.93963084 0.93406978\n",
      " 0.95261383 0.93894413 0.94454558 0.9487736  0.94456713 0.94417933\n",
      " 0.95173591 0.93520084 0.93003566 0.96059591 0.9448472  0.96831407\n",
      " 0.96035892 0.97734103 0.97575216 0.98194608 0.98630875 0.99821184\n",
      " 0.98335183 0.99408077 1.         0.91434067]\n",
      "1 day output [[0.87685937]]\n",
      "2 day input [0.83875885 0.79965099 0.83832797 0.83711611 0.8517553  0.83907124\n",
      " 0.86024366 0.86698696 0.87125268 0.85553629 0.85450756 0.86067993\n",
      " 0.8612293  0.85810542 0.85453449 0.86547887 0.8770588  0.86645913\n",
      " 0.87765127 0.88047354 0.88015038 0.87453815 0.87542684 0.8831073\n",
      " 0.87524372 0.87091336 0.8615794  0.8752114  0.88709834 0.86995465\n",
      " 0.89325994 0.88959206 0.88269258 0.89824739 0.92189739 0.9365662\n",
      " 0.94881669 0.93828165 0.93816854 0.93513621 0.93011645 0.93418289\n",
      " 0.90807687 0.91641981 0.90941799 0.91570885 0.92267297 0.90613252\n",
      " 0.93201232 0.93271789 0.90129588 0.91919361 0.88357588 0.87447352\n",
      " 0.84604613 0.85823468 0.85837472 0.85790075 0.88756154 0.87445736\n",
      " 0.89038919 0.8838775  0.88070514 0.89873515 0.88354895 0.85968352\n",
      " 0.9090679  0.89396012 0.90314866 0.91440005 0.93631036 0.91494404\n",
      " 0.93760301 0.94348992 0.9507772  0.93963084 0.93406978 0.95261383\n",
      " 0.93894413 0.94454558 0.9487736  0.94456713 0.94417933 0.95173591\n",
      " 0.93520084 0.93003566 0.96059591 0.9448472  0.96831407 0.96035892\n",
      " 0.97734103 0.97575216 0.98194608 0.98630875 0.99821184 0.98335183\n",
      " 0.99408077 1.         0.91434067 0.87685937]\n",
      "2 day output [[0.8202122]]\n",
      "3 day input [0.79965099 0.83832797 0.83711611 0.8517553  0.83907124 0.86024366\n",
      " 0.86698696 0.87125268 0.85553629 0.85450756 0.86067993 0.8612293\n",
      " 0.85810542 0.85453449 0.86547887 0.8770588  0.86645913 0.87765127\n",
      " 0.88047354 0.88015038 0.87453815 0.87542684 0.8831073  0.87524372\n",
      " 0.87091336 0.8615794  0.8752114  0.88709834 0.86995465 0.89325994\n",
      " 0.88959206 0.88269258 0.89824739 0.92189739 0.9365662  0.94881669\n",
      " 0.93828165 0.93816854 0.93513621 0.93011645 0.93418289 0.90807687\n",
      " 0.91641981 0.90941799 0.91570885 0.92267297 0.90613252 0.93201232\n",
      " 0.93271789 0.90129588 0.91919361 0.88357588 0.87447352 0.84604613\n",
      " 0.85823468 0.85837472 0.85790075 0.88756154 0.87445736 0.89038919\n",
      " 0.8838775  0.88070514 0.89873515 0.88354895 0.85968352 0.9090679\n",
      " 0.89396012 0.90314866 0.91440005 0.93631036 0.91494404 0.93760301\n",
      " 0.94348992 0.9507772  0.93963084 0.93406978 0.95261383 0.93894413\n",
      " 0.94454558 0.9487736  0.94456713 0.94417933 0.95173591 0.93520084\n",
      " 0.93003566 0.96059591 0.9448472  0.96831407 0.96035892 0.97734103\n",
      " 0.97575216 0.98194608 0.98630875 0.99821184 0.98335183 0.99408077\n",
      " 1.         0.91434067 0.87685937 0.82021219]\n",
      "3 day output [[0.76294696]]\n",
      "4 day input [0.83832797 0.83711611 0.8517553  0.83907124 0.86024366 0.86698696\n",
      " 0.87125268 0.85553629 0.85450756 0.86067993 0.8612293  0.85810542\n",
      " 0.85453449 0.86547887 0.8770588  0.86645913 0.87765127 0.88047354\n",
      " 0.88015038 0.87453815 0.87542684 0.8831073  0.87524372 0.87091336\n",
      " 0.8615794  0.8752114  0.88709834 0.86995465 0.89325994 0.88959206\n",
      " 0.88269258 0.89824739 0.92189739 0.9365662  0.94881669 0.93828165\n",
      " 0.93816854 0.93513621 0.93011645 0.93418289 0.90807687 0.91641981\n",
      " 0.90941799 0.91570885 0.92267297 0.90613252 0.93201232 0.93271789\n",
      " 0.90129588 0.91919361 0.88357588 0.87447352 0.84604613 0.85823468\n",
      " 0.85837472 0.85790075 0.88756154 0.87445736 0.89038919 0.8838775\n",
      " 0.88070514 0.89873515 0.88354895 0.85968352 0.9090679  0.89396012\n",
      " 0.90314866 0.91440005 0.93631036 0.91494404 0.93760301 0.94348992\n",
      " 0.9507772  0.93963084 0.93406978 0.95261383 0.93894413 0.94454558\n",
      " 0.9487736  0.94456713 0.94417933 0.95173591 0.93520084 0.93003566\n",
      " 0.96059591 0.9448472  0.96831407 0.96035892 0.97734103 0.97575216\n",
      " 0.98194608 0.98630875 0.99821184 0.98335183 0.99408077 1.\n",
      " 0.91434067 0.87685937 0.82021219 0.76294696]\n",
      "4 day output [[0.71005255]]\n",
      "5 day input [0.83711611 0.8517553  0.83907124 0.86024366 0.86698696 0.87125268\n",
      " 0.85553629 0.85450756 0.86067993 0.8612293  0.85810542 0.85453449\n",
      " 0.86547887 0.8770588  0.86645913 0.87765127 0.88047354 0.88015038\n",
      " 0.87453815 0.87542684 0.8831073  0.87524372 0.87091336 0.8615794\n",
      " 0.8752114  0.88709834 0.86995465 0.89325994 0.88959206 0.88269258\n",
      " 0.89824739 0.92189739 0.9365662  0.94881669 0.93828165 0.93816854\n",
      " 0.93513621 0.93011645 0.93418289 0.90807687 0.91641981 0.90941799\n",
      " 0.91570885 0.92267297 0.90613252 0.93201232 0.93271789 0.90129588\n",
      " 0.91919361 0.88357588 0.87447352 0.84604613 0.85823468 0.85837472\n",
      " 0.85790075 0.88756154 0.87445736 0.89038919 0.8838775  0.88070514\n",
      " 0.89873515 0.88354895 0.85968352 0.9090679  0.89396012 0.90314866\n",
      " 0.91440005 0.93631036 0.91494404 0.93760301 0.94348992 0.9507772\n",
      " 0.93963084 0.93406978 0.95261383 0.93894413 0.94454558 0.9487736\n",
      " 0.94456713 0.94417933 0.95173591 0.93520084 0.93003566 0.96059591\n",
      " 0.9448472  0.96831407 0.96035892 0.97734103 0.97575216 0.98194608\n",
      " 0.98630875 0.99821184 0.98335183 0.99408077 1.         0.91434067\n",
      " 0.87685937 0.82021219 0.76294696 0.71005255]\n",
      "5 day output [[0.66040856]]\n",
      "6 day input [0.8517553  0.83907124 0.86024366 0.86698696 0.87125268 0.85553629\n",
      " 0.85450756 0.86067993 0.8612293  0.85810542 0.85453449 0.86547887\n",
      " 0.8770588  0.86645913 0.87765127 0.88047354 0.88015038 0.87453815\n",
      " 0.87542684 0.8831073  0.87524372 0.87091336 0.8615794  0.8752114\n",
      " 0.88709834 0.86995465 0.89325994 0.88959206 0.88269258 0.89824739\n",
      " 0.92189739 0.9365662  0.94881669 0.93828165 0.93816854 0.93513621\n",
      " 0.93011645 0.93418289 0.90807687 0.91641981 0.90941799 0.91570885\n",
      " 0.92267297 0.90613252 0.93201232 0.93271789 0.90129588 0.91919361\n",
      " 0.88357588 0.87447352 0.84604613 0.85823468 0.85837472 0.85790075\n",
      " 0.88756154 0.87445736 0.89038919 0.8838775  0.88070514 0.89873515\n",
      " 0.88354895 0.85968352 0.9090679  0.89396012 0.90314866 0.91440005\n",
      " 0.93631036 0.91494404 0.93760301 0.94348992 0.9507772  0.93963084\n",
      " 0.93406978 0.95261383 0.93894413 0.94454558 0.9487736  0.94456713\n",
      " 0.94417933 0.95173591 0.93520084 0.93003566 0.96059591 0.9448472\n",
      " 0.96831407 0.96035892 0.97734103 0.97575216 0.98194608 0.98630875\n",
      " 0.99821184 0.98335183 0.99408077 1.         0.91434067 0.87685937\n",
      " 0.82021219 0.76294696 0.71005255 0.66040856]\n",
      "6 day output [[0.6127867]]\n",
      "7 day input [0.83907124 0.86024366 0.86698696 0.87125268 0.85553629 0.85450756\n",
      " 0.86067993 0.8612293  0.85810542 0.85453449 0.86547887 0.8770588\n",
      " 0.86645913 0.87765127 0.88047354 0.88015038 0.87453815 0.87542684\n",
      " 0.8831073  0.87524372 0.87091336 0.8615794  0.8752114  0.88709834\n",
      " 0.86995465 0.89325994 0.88959206 0.88269258 0.89824739 0.92189739\n",
      " 0.9365662  0.94881669 0.93828165 0.93816854 0.93513621 0.93011645\n",
      " 0.93418289 0.90807687 0.91641981 0.90941799 0.91570885 0.92267297\n",
      " 0.90613252 0.93201232 0.93271789 0.90129588 0.91919361 0.88357588\n",
      " 0.87447352 0.84604613 0.85823468 0.85837472 0.85790075 0.88756154\n",
      " 0.87445736 0.89038919 0.8838775  0.88070514 0.89873515 0.88354895\n",
      " 0.85968352 0.9090679  0.89396012 0.90314866 0.91440005 0.93631036\n",
      " 0.91494404 0.93760301 0.94348992 0.9507772  0.93963084 0.93406978\n",
      " 0.95261383 0.93894413 0.94454558 0.9487736  0.94456713 0.94417933\n",
      " 0.95173591 0.93520084 0.93003566 0.96059591 0.9448472  0.96831407\n",
      " 0.96035892 0.97734103 0.97575216 0.98194608 0.98630875 0.99821184\n",
      " 0.98335183 0.99408077 1.         0.91434067 0.87685937 0.82021219\n",
      " 0.76294696 0.71005255 0.66040856 0.61278671]\n",
      "7 day output [[0.56708527]]\n",
      "8 day input [0.86024366 0.86698696 0.87125268 0.85553629 0.85450756 0.86067993\n",
      " 0.8612293  0.85810542 0.85453449 0.86547887 0.8770588  0.86645913\n",
      " 0.87765127 0.88047354 0.88015038 0.87453815 0.87542684 0.8831073\n",
      " 0.87524372 0.87091336 0.8615794  0.8752114  0.88709834 0.86995465\n",
      " 0.89325994 0.88959206 0.88269258 0.89824739 0.92189739 0.9365662\n",
      " 0.94881669 0.93828165 0.93816854 0.93513621 0.93011645 0.93418289\n",
      " 0.90807687 0.91641981 0.90941799 0.91570885 0.92267297 0.90613252\n",
      " 0.93201232 0.93271789 0.90129588 0.91919361 0.88357588 0.87447352\n",
      " 0.84604613 0.85823468 0.85837472 0.85790075 0.88756154 0.87445736\n",
      " 0.89038919 0.8838775  0.88070514 0.89873515 0.88354895 0.85968352\n",
      " 0.9090679  0.89396012 0.90314866 0.91440005 0.93631036 0.91494404\n",
      " 0.93760301 0.94348992 0.9507772  0.93963084 0.93406978 0.95261383\n",
      " 0.93894413 0.94454558 0.9487736  0.94456713 0.94417933 0.95173591\n",
      " 0.93520084 0.93003566 0.96059591 0.9448472  0.96831407 0.96035892\n",
      " 0.97734103 0.97575216 0.98194608 0.98630875 0.99821184 0.98335183\n",
      " 0.99408077 1.         0.91434067 0.87685937 0.82021219 0.76294696\n",
      " 0.71005255 0.66040856 0.61278671 0.56708527]\n"
     ]
    },
    {
     "name": "stdout",
     "output_type": "stream",
     "text": [
      "8 day output [[0.5236943]]\n",
      "9 day input [0.86698696 0.87125268 0.85553629 0.85450756 0.86067993 0.8612293\n",
      " 0.85810542 0.85453449 0.86547887 0.8770588  0.86645913 0.87765127\n",
      " 0.88047354 0.88015038 0.87453815 0.87542684 0.8831073  0.87524372\n",
      " 0.87091336 0.8615794  0.8752114  0.88709834 0.86995465 0.89325994\n",
      " 0.88959206 0.88269258 0.89824739 0.92189739 0.9365662  0.94881669\n",
      " 0.93828165 0.93816854 0.93513621 0.93011645 0.93418289 0.90807687\n",
      " 0.91641981 0.90941799 0.91570885 0.92267297 0.90613252 0.93201232\n",
      " 0.93271789 0.90129588 0.91919361 0.88357588 0.87447352 0.84604613\n",
      " 0.85823468 0.85837472 0.85790075 0.88756154 0.87445736 0.89038919\n",
      " 0.8838775  0.88070514 0.89873515 0.88354895 0.85968352 0.9090679\n",
      " 0.89396012 0.90314866 0.91440005 0.93631036 0.91494404 0.93760301\n",
      " 0.94348992 0.9507772  0.93963084 0.93406978 0.95261383 0.93894413\n",
      " 0.94454558 0.9487736  0.94456713 0.94417933 0.95173591 0.93520084\n",
      " 0.93003566 0.96059591 0.9448472  0.96831407 0.96035892 0.97734103\n",
      " 0.97575216 0.98194608 0.98630875 0.99821184 0.98335183 0.99408077\n",
      " 1.         0.91434067 0.87685937 0.82021219 0.76294696 0.71005255\n",
      " 0.66040856 0.61278671 0.56708527 0.52369428]\n",
      "9 day output [[0.48302996]]\n",
      "10 day input [0.87125268 0.85553629 0.85450756 0.86067993 0.8612293  0.85810542\n",
      " 0.85453449 0.86547887 0.8770588  0.86645913 0.87765127 0.88047354\n",
      " 0.88015038 0.87453815 0.87542684 0.8831073  0.87524372 0.87091336\n",
      " 0.8615794  0.8752114  0.88709834 0.86995465 0.89325994 0.88959206\n",
      " 0.88269258 0.89824739 0.92189739 0.9365662  0.94881669 0.93828165\n",
      " 0.93816854 0.93513621 0.93011645 0.93418289 0.90807687 0.91641981\n",
      " 0.90941799 0.91570885 0.92267297 0.90613252 0.93201232 0.93271789\n",
      " 0.90129588 0.91919361 0.88357588 0.87447352 0.84604613 0.85823468\n",
      " 0.85837472 0.85790075 0.88756154 0.87445736 0.89038919 0.8838775\n",
      " 0.88070514 0.89873515 0.88354895 0.85968352 0.9090679  0.89396012\n",
      " 0.90314866 0.91440005 0.93631036 0.91494404 0.93760301 0.94348992\n",
      " 0.9507772  0.93963084 0.93406978 0.95261383 0.93894413 0.94454558\n",
      " 0.9487736  0.94456713 0.94417933 0.95173591 0.93520084 0.93003566\n",
      " 0.96059591 0.9448472  0.96831407 0.96035892 0.97734103 0.97575216\n",
      " 0.98194608 0.98630875 0.99821184 0.98335183 0.99408077 1.\n",
      " 0.91434067 0.87685937 0.82021219 0.76294696 0.71005255 0.66040856\n",
      " 0.61278671 0.56708527 0.52369428 0.48302996]\n",
      "10 day output [[0.44547045]]\n",
      "11 day input [0.85553629 0.85450756 0.86067993 0.8612293  0.85810542 0.85453449\n",
      " 0.86547887 0.8770588  0.86645913 0.87765127 0.88047354 0.88015038\n",
      " 0.87453815 0.87542684 0.8831073  0.87524372 0.87091336 0.8615794\n",
      " 0.8752114  0.88709834 0.86995465 0.89325994 0.88959206 0.88269258\n",
      " 0.89824739 0.92189739 0.9365662  0.94881669 0.93828165 0.93816854\n",
      " 0.93513621 0.93011645 0.93418289 0.90807687 0.91641981 0.90941799\n",
      " 0.91570885 0.92267297 0.90613252 0.93201232 0.93271789 0.90129588\n",
      " 0.91919361 0.88357588 0.87447352 0.84604613 0.85823468 0.85837472\n",
      " 0.85790075 0.88756154 0.87445736 0.89038919 0.8838775  0.88070514\n",
      " 0.89873515 0.88354895 0.85968352 0.9090679  0.89396012 0.90314866\n",
      " 0.91440005 0.93631036 0.91494404 0.93760301 0.94348992 0.9507772\n",
      " 0.93963084 0.93406978 0.95261383 0.93894413 0.94454558 0.9487736\n",
      " 0.94456713 0.94417933 0.95173591 0.93520084 0.93003566 0.96059591\n",
      " 0.9448472  0.96831407 0.96035892 0.97734103 0.97575216 0.98194608\n",
      " 0.98630875 0.99821184 0.98335183 0.99408077 1.         0.91434067\n",
      " 0.87685937 0.82021219 0.76294696 0.71005255 0.66040856 0.61278671\n",
      " 0.56708527 0.52369428 0.48302996 0.44547045]\n",
      "11 day output [[0.41138732]]\n",
      "12 day input [0.85450756 0.86067993 0.8612293  0.85810542 0.85453449 0.86547887\n",
      " 0.8770588  0.86645913 0.87765127 0.88047354 0.88015038 0.87453815\n",
      " 0.87542684 0.8831073  0.87524372 0.87091336 0.8615794  0.8752114\n",
      " 0.88709834 0.86995465 0.89325994 0.88959206 0.88269258 0.89824739\n",
      " 0.92189739 0.9365662  0.94881669 0.93828165 0.93816854 0.93513621\n",
      " 0.93011645 0.93418289 0.90807687 0.91641981 0.90941799 0.91570885\n",
      " 0.92267297 0.90613252 0.93201232 0.93271789 0.90129588 0.91919361\n",
      " 0.88357588 0.87447352 0.84604613 0.85823468 0.85837472 0.85790075\n",
      " 0.88756154 0.87445736 0.89038919 0.8838775  0.88070514 0.89873515\n",
      " 0.88354895 0.85968352 0.9090679  0.89396012 0.90314866 0.91440005\n",
      " 0.93631036 0.91494404 0.93760301 0.94348992 0.9507772  0.93963084\n",
      " 0.93406978 0.95261383 0.93894413 0.94454558 0.9487736  0.94456713\n",
      " 0.94417933 0.95173591 0.93520084 0.93003566 0.96059591 0.9448472\n",
      " 0.96831407 0.96035892 0.97734103 0.97575216 0.98194608 0.98630875\n",
      " 0.99821184 0.98335183 0.99408077 1.         0.91434067 0.87685937\n",
      " 0.82021219 0.76294696 0.71005255 0.66040856 0.61278671 0.56708527\n",
      " 0.52369428 0.48302996 0.44547045 0.41138732]\n",
      "12 day output [[0.38112438]]\n",
      "13 day input [0.86067993 0.8612293  0.85810542 0.85453449 0.86547887 0.8770588\n",
      " 0.86645913 0.87765127 0.88047354 0.88015038 0.87453815 0.87542684\n",
      " 0.8831073  0.87524372 0.87091336 0.8615794  0.8752114  0.88709834\n",
      " 0.86995465 0.89325994 0.88959206 0.88269258 0.89824739 0.92189739\n",
      " 0.9365662  0.94881669 0.93828165 0.93816854 0.93513621 0.93011645\n",
      " 0.93418289 0.90807687 0.91641981 0.90941799 0.91570885 0.92267297\n",
      " 0.90613252 0.93201232 0.93271789 0.90129588 0.91919361 0.88357588\n",
      " 0.87447352 0.84604613 0.85823468 0.85837472 0.85790075 0.88756154\n",
      " 0.87445736 0.89038919 0.8838775  0.88070514 0.89873515 0.88354895\n",
      " 0.85968352 0.9090679  0.89396012 0.90314866 0.91440005 0.93631036\n",
      " 0.91494404 0.93760301 0.94348992 0.9507772  0.93963084 0.93406978\n",
      " 0.95261383 0.93894413 0.94454558 0.9487736  0.94456713 0.94417933\n",
      " 0.95173591 0.93520084 0.93003566 0.96059591 0.9448472  0.96831407\n",
      " 0.96035892 0.97734103 0.97575216 0.98194608 0.98630875 0.99821184\n",
      " 0.98335183 0.99408077 1.         0.91434067 0.87685937 0.82021219\n",
      " 0.76294696 0.71005255 0.66040856 0.61278671 0.56708527 0.52369428\n",
      " 0.48302996 0.44547045 0.41138732 0.38112438]\n",
      "13 day output [[0.35493994]]\n",
      "14 day input [0.8612293  0.85810542 0.85453449 0.86547887 0.8770588  0.86645913\n",
      " 0.87765127 0.88047354 0.88015038 0.87453815 0.87542684 0.8831073\n",
      " 0.87524372 0.87091336 0.8615794  0.8752114  0.88709834 0.86995465\n",
      " 0.89325994 0.88959206 0.88269258 0.89824739 0.92189739 0.9365662\n",
      " 0.94881669 0.93828165 0.93816854 0.93513621 0.93011645 0.93418289\n",
      " 0.90807687 0.91641981 0.90941799 0.91570885 0.92267297 0.90613252\n",
      " 0.93201232 0.93271789 0.90129588 0.91919361 0.88357588 0.87447352\n",
      " 0.84604613 0.85823468 0.85837472 0.85790075 0.88756154 0.87445736\n",
      " 0.89038919 0.8838775  0.88070514 0.89873515 0.88354895 0.85968352\n",
      " 0.9090679  0.89396012 0.90314866 0.91440005 0.93631036 0.91494404\n",
      " 0.93760301 0.94348992 0.9507772  0.93963084 0.93406978 0.95261383\n",
      " 0.93894413 0.94454558 0.9487736  0.94456713 0.94417933 0.95173591\n",
      " 0.93520084 0.93003566 0.96059591 0.9448472  0.96831407 0.96035892\n",
      " 0.97734103 0.97575216 0.98194608 0.98630875 0.99821184 0.98335183\n",
      " 0.99408077 1.         0.91434067 0.87685937 0.82021219 0.76294696\n",
      " 0.71005255 0.66040856 0.61278671 0.56708527 0.52369428 0.48302996\n",
      " 0.44547045 0.41138732 0.38112438 0.35493994]\n",
      "14 day output [[0.33295822]]\n",
      "15 day input [0.85810542 0.85453449 0.86547887 0.8770588  0.86645913 0.87765127\n",
      " 0.88047354 0.88015038 0.87453815 0.87542684 0.8831073  0.87524372\n",
      " 0.87091336 0.8615794  0.8752114  0.88709834 0.86995465 0.89325994\n",
      " 0.88959206 0.88269258 0.89824739 0.92189739 0.9365662  0.94881669\n",
      " 0.93828165 0.93816854 0.93513621 0.93011645 0.93418289 0.90807687\n",
      " 0.91641981 0.90941799 0.91570885 0.92267297 0.90613252 0.93201232\n",
      " 0.93271789 0.90129588 0.91919361 0.88357588 0.87447352 0.84604613\n",
      " 0.85823468 0.85837472 0.85790075 0.88756154 0.87445736 0.89038919\n",
      " 0.8838775  0.88070514 0.89873515 0.88354895 0.85968352 0.9090679\n",
      " 0.89396012 0.90314866 0.91440005 0.93631036 0.91494404 0.93760301\n",
      " 0.94348992 0.9507772  0.93963084 0.93406978 0.95261383 0.93894413\n",
      " 0.94454558 0.9487736  0.94456713 0.94417933 0.95173591 0.93520084\n",
      " 0.93003566 0.96059591 0.9448472  0.96831407 0.96035892 0.97734103\n",
      " 0.97575216 0.98194608 0.98630875 0.99821184 0.98335183 0.99408077\n",
      " 1.         0.91434067 0.87685937 0.82021219 0.76294696 0.71005255\n",
      " 0.66040856 0.61278671 0.56708527 0.52369428 0.48302996 0.44547045\n",
      " 0.41138732 0.38112438 0.35493994 0.33295822]\n",
      "15 day output [[0.31515104]]\n",
      "16 day input [0.85453449 0.86547887 0.8770588  0.86645913 0.87765127 0.88047354\n",
      " 0.88015038 0.87453815 0.87542684 0.8831073  0.87524372 0.87091336\n",
      " 0.8615794  0.8752114  0.88709834 0.86995465 0.89325994 0.88959206\n",
      " 0.88269258 0.89824739 0.92189739 0.9365662  0.94881669 0.93828165\n",
      " 0.93816854 0.93513621 0.93011645 0.93418289 0.90807687 0.91641981\n",
      " 0.90941799 0.91570885 0.92267297 0.90613252 0.93201232 0.93271789\n",
      " 0.90129588 0.91919361 0.88357588 0.87447352 0.84604613 0.85823468\n",
      " 0.85837472 0.85790075 0.88756154 0.87445736 0.89038919 0.8838775\n",
      " 0.88070514 0.89873515 0.88354895 0.85968352 0.9090679  0.89396012\n",
      " 0.90314866 0.91440005 0.93631036 0.91494404 0.93760301 0.94348992\n",
      " 0.9507772  0.93963084 0.93406978 0.95261383 0.93894413 0.94454558\n",
      " 0.9487736  0.94456713 0.94417933 0.95173591 0.93520084 0.93003566\n",
      " 0.96059591 0.9448472  0.96831407 0.96035892 0.97734103 0.97575216\n",
      " 0.98194608 0.98630875 0.99821184 0.98335183 0.99408077 1.\n",
      " 0.91434067 0.87685937 0.82021219 0.76294696 0.71005255 0.66040856\n",
      " 0.61278671 0.56708527 0.52369428 0.48302996 0.44547045 0.41138732\n",
      " 0.38112438 0.35493994 0.33295822 0.31515104]\n"
     ]
    },
    {
     "name": "stdout",
     "output_type": "stream",
     "text": [
      "16 day output [[0.3013469]]\n",
      "17 day input [0.86547887 0.8770588  0.86645913 0.87765127 0.88047354 0.88015038\n",
      " 0.87453815 0.87542684 0.8831073  0.87524372 0.87091336 0.8615794\n",
      " 0.8752114  0.88709834 0.86995465 0.89325994 0.88959206 0.88269258\n",
      " 0.89824739 0.92189739 0.9365662  0.94881669 0.93828165 0.93816854\n",
      " 0.93513621 0.93011645 0.93418289 0.90807687 0.91641981 0.90941799\n",
      " 0.91570885 0.92267297 0.90613252 0.93201232 0.93271789 0.90129588\n",
      " 0.91919361 0.88357588 0.87447352 0.84604613 0.85823468 0.85837472\n",
      " 0.85790075 0.88756154 0.87445736 0.89038919 0.8838775  0.88070514\n",
      " 0.89873515 0.88354895 0.85968352 0.9090679  0.89396012 0.90314866\n",
      " 0.91440005 0.93631036 0.91494404 0.93760301 0.94348992 0.9507772\n",
      " 0.93963084 0.93406978 0.95261383 0.93894413 0.94454558 0.9487736\n",
      " 0.94456713 0.94417933 0.95173591 0.93520084 0.93003566 0.96059591\n",
      " 0.9448472  0.96831407 0.96035892 0.97734103 0.97575216 0.98194608\n",
      " 0.98630875 0.99821184 0.98335183 0.99408077 1.         0.91434067\n",
      " 0.87685937 0.82021219 0.76294696 0.71005255 0.66040856 0.61278671\n",
      " 0.56708527 0.52369428 0.48302996 0.44547045 0.41138732 0.38112438\n",
      " 0.35493994 0.33295822 0.31515104 0.3013469 ]\n",
      "17 day output [[0.29125768]]\n",
      "18 day input [0.8770588  0.86645913 0.87765127 0.88047354 0.88015038 0.87453815\n",
      " 0.87542684 0.8831073  0.87524372 0.87091336 0.8615794  0.8752114\n",
      " 0.88709834 0.86995465 0.89325994 0.88959206 0.88269258 0.89824739\n",
      " 0.92189739 0.9365662  0.94881669 0.93828165 0.93816854 0.93513621\n",
      " 0.93011645 0.93418289 0.90807687 0.91641981 0.90941799 0.91570885\n",
      " 0.92267297 0.90613252 0.93201232 0.93271789 0.90129588 0.91919361\n",
      " 0.88357588 0.87447352 0.84604613 0.85823468 0.85837472 0.85790075\n",
      " 0.88756154 0.87445736 0.89038919 0.8838775  0.88070514 0.89873515\n",
      " 0.88354895 0.85968352 0.9090679  0.89396012 0.90314866 0.91440005\n",
      " 0.93631036 0.91494404 0.93760301 0.94348992 0.9507772  0.93963084\n",
      " 0.93406978 0.95261383 0.93894413 0.94454558 0.9487736  0.94456713\n",
      " 0.94417933 0.95173591 0.93520084 0.93003566 0.96059591 0.9448472\n",
      " 0.96831407 0.96035892 0.97734103 0.97575216 0.98194608 0.98630875\n",
      " 0.99821184 0.98335183 0.99408077 1.         0.91434067 0.87685937\n",
      " 0.82021219 0.76294696 0.71005255 0.66040856 0.61278671 0.56708527\n",
      " 0.52369428 0.48302996 0.44547045 0.41138732 0.38112438 0.35493994\n",
      " 0.33295822 0.31515104 0.3013469  0.29125768]\n",
      "18 day output [[0.28451318]]\n",
      "19 day input [0.86645913 0.87765127 0.88047354 0.88015038 0.87453815 0.87542684\n",
      " 0.8831073  0.87524372 0.87091336 0.8615794  0.8752114  0.88709834\n",
      " 0.86995465 0.89325994 0.88959206 0.88269258 0.89824739 0.92189739\n",
      " 0.9365662  0.94881669 0.93828165 0.93816854 0.93513621 0.93011645\n",
      " 0.93418289 0.90807687 0.91641981 0.90941799 0.91570885 0.92267297\n",
      " 0.90613252 0.93201232 0.93271789 0.90129588 0.91919361 0.88357588\n",
      " 0.87447352 0.84604613 0.85823468 0.85837472 0.85790075 0.88756154\n",
      " 0.87445736 0.89038919 0.8838775  0.88070514 0.89873515 0.88354895\n",
      " 0.85968352 0.9090679  0.89396012 0.90314866 0.91440005 0.93631036\n",
      " 0.91494404 0.93760301 0.94348992 0.9507772  0.93963084 0.93406978\n",
      " 0.95261383 0.93894413 0.94454558 0.9487736  0.94456713 0.94417933\n",
      " 0.95173591 0.93520084 0.93003566 0.96059591 0.9448472  0.96831407\n",
      " 0.96035892 0.97734103 0.97575216 0.98194608 0.98630875 0.99821184\n",
      " 0.98335183 0.99408077 1.         0.91434067 0.87685937 0.82021219\n",
      " 0.76294696 0.71005255 0.66040856 0.61278671 0.56708527 0.52369428\n",
      " 0.48302996 0.44547045 0.41138732 0.38112438 0.35493994 0.33295822\n",
      " 0.31515104 0.3013469  0.29125768 0.28451318]\n",
      "19 day output [[0.2806955]]\n",
      "20 day input [0.87765127 0.88047354 0.88015038 0.87453815 0.87542684 0.8831073\n",
      " 0.87524372 0.87091336 0.8615794  0.8752114  0.88709834 0.86995465\n",
      " 0.89325994 0.88959206 0.88269258 0.89824739 0.92189739 0.9365662\n",
      " 0.94881669 0.93828165 0.93816854 0.93513621 0.93011645 0.93418289\n",
      " 0.90807687 0.91641981 0.90941799 0.91570885 0.92267297 0.90613252\n",
      " 0.93201232 0.93271789 0.90129588 0.91919361 0.88357588 0.87447352\n",
      " 0.84604613 0.85823468 0.85837472 0.85790075 0.88756154 0.87445736\n",
      " 0.89038919 0.8838775  0.88070514 0.89873515 0.88354895 0.85968352\n",
      " 0.9090679  0.89396012 0.90314866 0.91440005 0.93631036 0.91494404\n",
      " 0.93760301 0.94348992 0.9507772  0.93963084 0.93406978 0.95261383\n",
      " 0.93894413 0.94454558 0.9487736  0.94456713 0.94417933 0.95173591\n",
      " 0.93520084 0.93003566 0.96059591 0.9448472  0.96831407 0.96035892\n",
      " 0.97734103 0.97575216 0.98194608 0.98630875 0.99821184 0.98335183\n",
      " 0.99408077 1.         0.91434067 0.87685937 0.82021219 0.76294696\n",
      " 0.71005255 0.66040856 0.61278671 0.56708527 0.52369428 0.48302996\n",
      " 0.44547045 0.41138732 0.38112438 0.35493994 0.33295822 0.31515104\n",
      " 0.3013469  0.29125768 0.28451318 0.2806955 ]\n",
      "20 day output [[0.2793669]]\n",
      "21 day input [0.88047354 0.88015038 0.87453815 0.87542684 0.8831073  0.87524372\n",
      " 0.87091336 0.8615794  0.8752114  0.88709834 0.86995465 0.89325994\n",
      " 0.88959206 0.88269258 0.89824739 0.92189739 0.9365662  0.94881669\n",
      " 0.93828165 0.93816854 0.93513621 0.93011645 0.93418289 0.90807687\n",
      " 0.91641981 0.90941799 0.91570885 0.92267297 0.90613252 0.93201232\n",
      " 0.93271789 0.90129588 0.91919361 0.88357588 0.87447352 0.84604613\n",
      " 0.85823468 0.85837472 0.85790075 0.88756154 0.87445736 0.89038919\n",
      " 0.8838775  0.88070514 0.89873515 0.88354895 0.85968352 0.9090679\n",
      " 0.89396012 0.90314866 0.91440005 0.93631036 0.91494404 0.93760301\n",
      " 0.94348992 0.9507772  0.93963084 0.93406978 0.95261383 0.93894413\n",
      " 0.94454558 0.9487736  0.94456713 0.94417933 0.95173591 0.93520084\n",
      " 0.93003566 0.96059591 0.9448472  0.96831407 0.96035892 0.97734103\n",
      " 0.97575216 0.98194608 0.98630875 0.99821184 0.98335183 0.99408077\n",
      " 1.         0.91434067 0.87685937 0.82021219 0.76294696 0.71005255\n",
      " 0.66040856 0.61278671 0.56708527 0.52369428 0.48302996 0.44547045\n",
      " 0.41138732 0.38112438 0.35493994 0.33295822 0.31515104 0.3013469\n",
      " 0.29125768 0.28451318 0.2806955  0.27936691]\n",
      "21 day output [[0.280093]]\n",
      "22 day input [0.88015038 0.87453815 0.87542684 0.8831073  0.87524372 0.87091336\n",
      " 0.8615794  0.8752114  0.88709834 0.86995465 0.89325994 0.88959206\n",
      " 0.88269258 0.89824739 0.92189739 0.9365662  0.94881669 0.93828165\n",
      " 0.93816854 0.93513621 0.93011645 0.93418289 0.90807687 0.91641981\n",
      " 0.90941799 0.91570885 0.92267297 0.90613252 0.93201232 0.93271789\n",
      " 0.90129588 0.91919361 0.88357588 0.87447352 0.84604613 0.85823468\n",
      " 0.85837472 0.85790075 0.88756154 0.87445736 0.89038919 0.8838775\n",
      " 0.88070514 0.89873515 0.88354895 0.85968352 0.9090679  0.89396012\n",
      " 0.90314866 0.91440005 0.93631036 0.91494404 0.93760301 0.94348992\n",
      " 0.9507772  0.93963084 0.93406978 0.95261383 0.93894413 0.94454558\n",
      " 0.9487736  0.94456713 0.94417933 0.95173591 0.93520084 0.93003566\n",
      " 0.96059591 0.9448472  0.96831407 0.96035892 0.97734103 0.97575216\n",
      " 0.98194608 0.98630875 0.99821184 0.98335183 0.99408077 1.\n",
      " 0.91434067 0.87685937 0.82021219 0.76294696 0.71005255 0.66040856\n",
      " 0.61278671 0.56708527 0.52369428 0.48302996 0.44547045 0.41138732\n",
      " 0.38112438 0.35493994 0.33295822 0.31515104 0.3013469  0.29125768\n",
      " 0.28451318 0.2806955  0.27936691 0.28009301]\n",
      "22 day output [[0.28245682]]\n",
      "23 day input [0.87453815 0.87542684 0.8831073  0.87524372 0.87091336 0.8615794\n",
      " 0.8752114  0.88709834 0.86995465 0.89325994 0.88959206 0.88269258\n",
      " 0.89824739 0.92189739 0.9365662  0.94881669 0.93828165 0.93816854\n",
      " 0.93513621 0.93011645 0.93418289 0.90807687 0.91641981 0.90941799\n",
      " 0.91570885 0.92267297 0.90613252 0.93201232 0.93271789 0.90129588\n",
      " 0.91919361 0.88357588 0.87447352 0.84604613 0.85823468 0.85837472\n",
      " 0.85790075 0.88756154 0.87445736 0.89038919 0.8838775  0.88070514\n",
      " 0.89873515 0.88354895 0.85968352 0.9090679  0.89396012 0.90314866\n",
      " 0.91440005 0.93631036 0.91494404 0.93760301 0.94348992 0.9507772\n",
      " 0.93963084 0.93406978 0.95261383 0.93894413 0.94454558 0.9487736\n",
      " 0.94456713 0.94417933 0.95173591 0.93520084 0.93003566 0.96059591\n",
      " 0.9448472  0.96831407 0.96035892 0.97734103 0.97575216 0.98194608\n",
      " 0.98630875 0.99821184 0.98335183 0.99408077 1.         0.91434067\n",
      " 0.87685937 0.82021219 0.76294696 0.71005255 0.66040856 0.61278671\n",
      " 0.56708527 0.52369428 0.48302996 0.44547045 0.41138732 0.38112438\n",
      " 0.35493994 0.33295822 0.31515104 0.3013469  0.29125768 0.28451318\n",
      " 0.2806955  0.27936691 0.28009301 0.28245682]\n",
      "23 day output [[0.28606826]]\n",
      "24 day input [0.87542684 0.8831073  0.87524372 0.87091336 0.8615794  0.8752114\n",
      " 0.88709834 0.86995465 0.89325994 0.88959206 0.88269258 0.89824739\n",
      " 0.92189739 0.9365662  0.94881669 0.93828165 0.93816854 0.93513621\n",
      " 0.93011645 0.93418289 0.90807687 0.91641981 0.90941799 0.91570885\n",
      " 0.92267297 0.90613252 0.93201232 0.93271789 0.90129588 0.91919361\n",
      " 0.88357588 0.87447352 0.84604613 0.85823468 0.85837472 0.85790075\n",
      " 0.88756154 0.87445736 0.89038919 0.8838775  0.88070514 0.89873515\n",
      " 0.88354895 0.85968352 0.9090679  0.89396012 0.90314866 0.91440005\n",
      " 0.93631036 0.91494404 0.93760301 0.94348992 0.9507772  0.93963084\n",
      " 0.93406978 0.95261383 0.93894413 0.94454558 0.9487736  0.94456713\n",
      " 0.94417933 0.95173591 0.93520084 0.93003566 0.96059591 0.9448472\n",
      " 0.96831407 0.96035892 0.97734103 0.97575216 0.98194608 0.98630875\n",
      " 0.99821184 0.98335183 0.99408077 1.         0.91434067 0.87685937\n",
      " 0.82021219 0.76294696 0.71005255 0.66040856 0.61278671 0.56708527\n",
      " 0.52369428 0.48302996 0.44547045 0.41138732 0.38112438 0.35493994\n",
      " 0.33295822 0.31515104 0.3013469  0.29125768 0.28451318 0.2806955\n",
      " 0.27936691 0.28009301 0.28245682 0.28606826]\n"
     ]
    },
    {
     "name": "stdout",
     "output_type": "stream",
     "text": [
      "24 day output [[0.29056907]]\n",
      "25 day input [0.8831073  0.87524372 0.87091336 0.8615794  0.8752114  0.88709834\n",
      " 0.86995465 0.89325994 0.88959206 0.88269258 0.89824739 0.92189739\n",
      " 0.9365662  0.94881669 0.93828165 0.93816854 0.93513621 0.93011645\n",
      " 0.93418289 0.90807687 0.91641981 0.90941799 0.91570885 0.92267297\n",
      " 0.90613252 0.93201232 0.93271789 0.90129588 0.91919361 0.88357588\n",
      " 0.87447352 0.84604613 0.85823468 0.85837472 0.85790075 0.88756154\n",
      " 0.87445736 0.89038919 0.8838775  0.88070514 0.89873515 0.88354895\n",
      " 0.85968352 0.9090679  0.89396012 0.90314866 0.91440005 0.93631036\n",
      " 0.91494404 0.93760301 0.94348992 0.9507772  0.93963084 0.93406978\n",
      " 0.95261383 0.93894413 0.94454558 0.9487736  0.94456713 0.94417933\n",
      " 0.95173591 0.93520084 0.93003566 0.96059591 0.9448472  0.96831407\n",
      " 0.96035892 0.97734103 0.97575216 0.98194608 0.98630875 0.99821184\n",
      " 0.98335183 0.99408077 1.         0.91434067 0.87685937 0.82021219\n",
      " 0.76294696 0.71005255 0.66040856 0.61278671 0.56708527 0.52369428\n",
      " 0.48302996 0.44547045 0.41138732 0.38112438 0.35493994 0.33295822\n",
      " 0.31515104 0.3013469  0.29125768 0.28451318 0.2806955  0.27936691\n",
      " 0.28009301 0.28245682 0.28606826 0.29056907]\n",
      "25 day output [[0.29563552]]\n",
      "26 day input [0.87524372 0.87091336 0.8615794  0.8752114  0.88709834 0.86995465\n",
      " 0.89325994 0.88959206 0.88269258 0.89824739 0.92189739 0.9365662\n",
      " 0.94881669 0.93828165 0.93816854 0.93513621 0.93011645 0.93418289\n",
      " 0.90807687 0.91641981 0.90941799 0.91570885 0.92267297 0.90613252\n",
      " 0.93201232 0.93271789 0.90129588 0.91919361 0.88357588 0.87447352\n",
      " 0.84604613 0.85823468 0.85837472 0.85790075 0.88756154 0.87445736\n",
      " 0.89038919 0.8838775  0.88070514 0.89873515 0.88354895 0.85968352\n",
      " 0.9090679  0.89396012 0.90314866 0.91440005 0.93631036 0.91494404\n",
      " 0.93760301 0.94348992 0.9507772  0.93963084 0.93406978 0.95261383\n",
      " 0.93894413 0.94454558 0.9487736  0.94456713 0.94417933 0.95173591\n",
      " 0.93520084 0.93003566 0.96059591 0.9448472  0.96831407 0.96035892\n",
      " 0.97734103 0.97575216 0.98194608 0.98630875 0.99821184 0.98335183\n",
      " 0.99408077 1.         0.91434067 0.87685937 0.82021219 0.76294696\n",
      " 0.71005255 0.66040856 0.61278671 0.56708527 0.52369428 0.48302996\n",
      " 0.44547045 0.41138732 0.38112438 0.35493994 0.33295822 0.31515104\n",
      " 0.3013469  0.29125768 0.28451318 0.2806955  0.27936691 0.28009301\n",
      " 0.28245682 0.28606826 0.29056907 0.29563552]\n",
      "26 day output [[0.30097944]]\n",
      "27 day input [0.87091336 0.8615794  0.8752114  0.88709834 0.86995465 0.89325994\n",
      " 0.88959206 0.88269258 0.89824739 0.92189739 0.9365662  0.94881669\n",
      " 0.93828165 0.93816854 0.93513621 0.93011645 0.93418289 0.90807687\n",
      " 0.91641981 0.90941799 0.91570885 0.92267297 0.90613252 0.93201232\n",
      " 0.93271789 0.90129588 0.91919361 0.88357588 0.87447352 0.84604613\n",
      " 0.85823468 0.85837472 0.85790075 0.88756154 0.87445736 0.89038919\n",
      " 0.8838775  0.88070514 0.89873515 0.88354895 0.85968352 0.9090679\n",
      " 0.89396012 0.90314866 0.91440005 0.93631036 0.91494404 0.93760301\n",
      " 0.94348992 0.9507772  0.93963084 0.93406978 0.95261383 0.93894413\n",
      " 0.94454558 0.9487736  0.94456713 0.94417933 0.95173591 0.93520084\n",
      " 0.93003566 0.96059591 0.9448472  0.96831407 0.96035892 0.97734103\n",
      " 0.97575216 0.98194608 0.98630875 0.99821184 0.98335183 0.99408077\n",
      " 1.         0.91434067 0.87685937 0.82021219 0.76294696 0.71005255\n",
      " 0.66040856 0.61278671 0.56708527 0.52369428 0.48302996 0.44547045\n",
      " 0.41138732 0.38112438 0.35493994 0.33295822 0.31515104 0.3013469\n",
      " 0.29125768 0.28451318 0.2806955  0.27936691 0.28009301 0.28245682\n",
      " 0.28606826 0.29056907 0.29563552 0.30097944]\n",
      "27 day output [[0.30634874]]\n",
      "28 day input [0.8615794  0.8752114  0.88709834 0.86995465 0.89325994 0.88959206\n",
      " 0.88269258 0.89824739 0.92189739 0.9365662  0.94881669 0.93828165\n",
      " 0.93816854 0.93513621 0.93011645 0.93418289 0.90807687 0.91641981\n",
      " 0.90941799 0.91570885 0.92267297 0.90613252 0.93201232 0.93271789\n",
      " 0.90129588 0.91919361 0.88357588 0.87447352 0.84604613 0.85823468\n",
      " 0.85837472 0.85790075 0.88756154 0.87445736 0.89038919 0.8838775\n",
      " 0.88070514 0.89873515 0.88354895 0.85968352 0.9090679  0.89396012\n",
      " 0.90314866 0.91440005 0.93631036 0.91494404 0.93760301 0.94348992\n",
      " 0.9507772  0.93963084 0.93406978 0.95261383 0.93894413 0.94454558\n",
      " 0.9487736  0.94456713 0.94417933 0.95173591 0.93520084 0.93003566\n",
      " 0.96059591 0.9448472  0.96831407 0.96035892 0.97734103 0.97575216\n",
      " 0.98194608 0.98630875 0.99821184 0.98335183 0.99408077 1.\n",
      " 0.91434067 0.87685937 0.82021219 0.76294696 0.71005255 0.66040856\n",
      " 0.61278671 0.56708527 0.52369428 0.48302996 0.44547045 0.41138732\n",
      " 0.38112438 0.35493994 0.33295822 0.31515104 0.3013469  0.29125768\n",
      " 0.28451318 0.2806955  0.27936691 0.28009301 0.28245682 0.28606826\n",
      " 0.29056907 0.29563552 0.30097944 0.30634874]\n",
      "28 day output [[0.31152773]]\n",
      "29 day input [0.8752114  0.88709834 0.86995465 0.89325994 0.88959206 0.88269258\n",
      " 0.89824739 0.92189739 0.9365662  0.94881669 0.93828165 0.93816854\n",
      " 0.93513621 0.93011645 0.93418289 0.90807687 0.91641981 0.90941799\n",
      " 0.91570885 0.92267297 0.90613252 0.93201232 0.93271789 0.90129588\n",
      " 0.91919361 0.88357588 0.87447352 0.84604613 0.85823468 0.85837472\n",
      " 0.85790075 0.88756154 0.87445736 0.89038919 0.8838775  0.88070514\n",
      " 0.89873515 0.88354895 0.85968352 0.9090679  0.89396012 0.90314866\n",
      " 0.91440005 0.93631036 0.91494404 0.93760301 0.94348992 0.9507772\n",
      " 0.93963084 0.93406978 0.95261383 0.93894413 0.94454558 0.9487736\n",
      " 0.94456713 0.94417933 0.95173591 0.93520084 0.93003566 0.96059591\n",
      " 0.9448472  0.96831407 0.96035892 0.97734103 0.97575216 0.98194608\n",
      " 0.98630875 0.99821184 0.98335183 0.99408077 1.         0.91434067\n",
      " 0.87685937 0.82021219 0.76294696 0.71005255 0.66040856 0.61278671\n",
      " 0.56708527 0.52369428 0.48302996 0.44547045 0.41138732 0.38112438\n",
      " 0.35493994 0.33295822 0.31515104 0.3013469  0.29125768 0.28451318\n",
      " 0.2806955  0.27936691 0.28009301 0.28245682 0.28606826 0.29056907\n",
      " 0.29563552 0.30097944 0.30634874 0.31152773]\n",
      "29 day output [[0.31633705]]\n",
      "[[0.9143406748771667], [0.8768593668937683], [0.820212185382843], [0.7629469633102417], [0.7100525498390198], [0.6604085564613342], [0.6127867102622986], [0.5670852661132812], [0.5236942768096924], [0.48302996158599854], [0.4454704523086548], [0.4113873243331909], [0.3811243772506714], [0.35493993759155273], [0.3329582214355469], [0.31515103578567505], [0.30134689807891846], [0.29125767946243286], [0.2845131754875183], [0.28069549798965454], [0.2793669104576111], [0.2800930142402649], [0.28245681524276733], [0.28606826066970825], [0.2905690670013428], [0.29563552141189575], [0.3009794354438782], [0.3063487410545349], [0.31152772903442383], [0.31633704900741577]]\n"
     ]
    }
   ],
   "source": [
    "from numpy import array\n",
    "\n",
    "lst_output=[]\n",
    "n_steps=100\n",
    "i=0\n",
    "while(i<30):\n",
    "    \n",
    "    if(len(temp_input)>100):\n",
    "        #print(temp_input)\n",
    "        x_input=np.array(temp_input[1:])\n",
    "        print(\"{} day input {}\".format(i,x_input))\n",
    "        x_input=x_input.reshape(1,-1)\n",
    "        x_input = x_input.reshape((1, n_steps, 1))\n",
    "        #print(x_input)\n",
    "        yhat = model.predict(x_input, verbose=0)\n",
    "        print(\"{} day output {}\".format(i,yhat))\n",
    "        temp_input.extend(yhat[0].tolist())\n",
    "        temp_input=temp_input[1:]\n",
    "        #print(temp_input)\n",
    "        lst_output.extend(yhat.tolist())\n",
    "        i=i+1\n",
    "    else:\n",
    "        x_input = x_input.reshape((1, n_steps,1))\n",
    "        yhat = model.predict(x_input, verbose=0)\n",
    "        print(yhat[0])\n",
    "        temp_input.extend(yhat[0].tolist())\n",
    "        print(len(temp_input))\n",
    "        lst_output.extend(yhat.tolist())\n",
    "        i=i+1\n",
    "    \n",
    "\n",
    "print(lst_output)"
   ]
  },
  {
   "cell_type": "code",
   "execution_count": 53,
   "id": "933e895d",
   "metadata": {},
   "outputs": [],
   "source": [
    "day_new=np.arange(1,101)\n",
    "day_pred=np.arange(101,131)"
   ]
  },
  {
   "cell_type": "code",
   "execution_count": 54,
   "id": "41518ea6",
   "metadata": {},
   "outputs": [
    {
     "data": {
      "text/plain": [
       "2516"
      ]
     },
     "execution_count": 54,
     "metadata": {},
     "output_type": "execute_result"
    }
   ],
   "source": [
    "len(df)"
   ]
  },
  {
   "cell_type": "code",
   "execution_count": 57,
   "id": "79660cf8",
   "metadata": {},
   "outputs": [
    {
     "data": {
      "text/plain": [
       "[<matplotlib.lines.Line2D at 0x282b149ac40>]"
      ]
     },
     "execution_count": 57,
     "metadata": {},
     "output_type": "execute_result"
    },
    {
     "data": {
      "image/png": "[encoded data removed]",
      "text/plain": [
       "<Figure size 640x480 with 1 Axes>"
      ]
     },
     "metadata": {},
     "output_type": "display_data"
    }
   ],
   "source": [
    "df3=df.tolist()\n",
    "df3.extend(lst_output)\n",
    "plt.plot(df3[1200:])"
   ]
  },
  {
   "cell_type": "code",
   "execution_count": 58,
   "id": "0c460a31",
   "metadata": {},
   "outputs": [],
   "source": [
    "df3=scaler.inverse_transform(df3).tolist()"
   ]
  },
  {
   "cell_type": "code",
   "execution_count": 59,
   "id": "3edef908",
   "metadata": {},
   "outputs": [
    {
     "data": {
      "text/plain": [
       "[<matplotlib.lines.Line2D at 0x282a87d5910>]"
      ]
     },
     "execution_count": 59,
     "metadata": {},
     "output_type": "execute_result"
    },
    {
     "data": {
      "image/png": "[encoded data removed]",
      "text/plain": [
       "<Figure size 640x480 with 1 Axes>"
      ]
     },
     "metadata": {},
     "output_type": "display_data"
    }
   ],
   "source": [
    "plt.plot(df3)"
   ]
  },
  {
   "cell_type": "code",
   "execution_count": null,
   "id": "ea917d2f",
   "metadata": {},
   "outputs": [],
   "source": []
  }
 ],
 "metadata": {
  "kernelspec": {
   "display_name": "Python 3 (ipykernel)",
   "language": "python",
   "name": "python3"
  },
  "language_info": {
   "codemirror_mode": {
    "name": "ipython",
    "version": 3
   },
   "file_extension": ".py",
   "mimetype": "text/x-python",
   "name": "python",
   "nbconvert_exporter": "python",
   "pygments_lexer": "ipython3",
   "version": "3.9.13"
  }
 },
 "nbformat": 4,
 "nbformat_minor": 5
}
